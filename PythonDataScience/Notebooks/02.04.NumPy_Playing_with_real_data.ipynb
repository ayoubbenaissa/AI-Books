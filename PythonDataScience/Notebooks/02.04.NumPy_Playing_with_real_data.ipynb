{
 "cells": [
  {
   "cell_type": "code",
   "execution_count": 1,
   "metadata": {},
   "outputs": [],
   "source": [
    "import pandas as pd\n",
    "import numpy as np\n",
    "\n",
    "%matplotlib inline\n",
    "import matplotlib.pyplot as plt\n",
    "import seaborn; seaborn.set() # set plot style"
   ]
  },
  {
   "cell_type": "code",
   "execution_count": 3,
   "metadata": {},
   "outputs": [
    {
     "data": {
      "text/plain": [
       "array([189, 170, 189, 163, 183, 171, 185, 168, 173, 183, 173, 173, 175,\n",
       "       178, 183, 193, 178, 173, 174, 183, 183, 168, 170, 178, 182, 180,\n",
       "       183, 178, 182, 188, 175, 179, 183, 193, 182, 183, 177, 185, 188,\n",
       "       188, 182, 185])"
      ]
     },
     "execution_count": 3,
     "metadata": {},
     "output_type": "execute_result"
    }
   ],
   "source": [
    "#presidents heights dataset:\n",
    "\n",
    "#import dataset:\n",
    "data = pd.read_csv(\"../Datasets/president_heights.csv\")\n",
    "\n",
    "#extract heights:\n",
    "heights = np.array(data[\"height(cm)\"])\n",
    "heights"
   ]
  },
  {
   "cell_type": "code",
   "execution_count": 4,
   "metadata": {},
   "outputs": [
    {
     "name": "stdout",
     "output_type": "stream",
     "text": [
      "max:  193\n",
      "min:  163\n",
      "mean:  179.73809523809524\n",
      "standard deviation:  6.931843442745892\n"
     ]
    }
   ],
   "source": [
    "#summary statistics:\n",
    "print(\"max: \", heights.max())\n",
    "print(\"min: \", heights.min())\n",
    "print(\"mean: \", heights.mean())\n",
    "print(\"standard deviation: \", heights.std())"
   ]
  },
  {
   "cell_type": "code",
   "execution_count": 5,
   "metadata": {},
   "outputs": [
    {
     "name": "stdout",
     "output_type": "stream",
     "text": [
      "25th percentile:  174.25\n",
      "median:  182.0\n",
      "75th percentile:  183.0\n"
     ]
    }
   ],
   "source": [
    "#some quantiles:\n",
    "print(\"25th percentile: \", np.percentile(heights, 25)) #first \"quartile\"\n",
    "print(\"median: \", np.median(heights))\n",
    "print(\"75th percentile: \", np.percentile(heights, 75)) #third \"quartile\""
   ]
  },
  {
   "cell_type": "code",
   "execution_count": 6,
   "metadata": {},
   "outputs": [
    {
     "name": "stdout",
     "output_type": "stream",
     "text": [
      "0th percentile:  163.0\n",
      "50th percentile:  182.0\n",
      "100th percentile:  193.0\n"
     ]
    }
   ],
   "source": [
    "print(\"0th percentile: \", np.percentile(heights, 0)) #min\n",
    "print(\"50th percentile: \", np.percentile(heights, 50)) #median\n",
    "print(\"100th percentile: \", np.percentile(heights, 100)) #max"
   ]
  },
  {
   "cell_type": "code",
   "execution_count": 8,
   "metadata": {},
   "outputs": [
    {
     "data": {
      "text/plain": [
       "Text(0, 0.5, 'number')"
      ]
     },
     "execution_count": 8,
     "metadata": {},
     "output_type": "execute_result"
    },
    {
     "data": {
      "image/png": "[encoded data removed]",
      "text/plain": [
       "<Figure size 432x288 with 1 Axes>"
      ]
     },
     "metadata": {
      "needs_background": "light"
     },
     "output_type": "display_data"
    }
   ],
   "source": [
    "#Histograme visualization:\n",
    "\n",
    "plt.hist(heights)\n",
    "plt.title('Height Distribution of Presidents')\n",
    "plt.xlabel(\"Heights (cm)\")\n",
    "plt.ylabel(\"number\")"
   ]
  },
  {
   "cell_type": "code",
   "execution_count": null,
   "metadata": {},
   "outputs": [],
   "source": []
  }
 ],
 "metadata": {
  "kernelspec": {
   "display_name": "Python 3",
   "language": "python",
   "name": "python3"
  },
  "language_info": {
   "codemirror_mode": {
    "name": "ipython",
    "version": 3
   },
   "file_extension": ".py",
   "mimetype": "text/x-python",
   "name": "python",
   "nbconvert_exporter": "python",
   "pygments_lexer": "ipython3",
   "version": "3.7.1"
  }
 },
 "nbformat": 4,
 "nbformat_minor": 2
}
